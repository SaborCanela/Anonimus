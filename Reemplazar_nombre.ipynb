{
 "cells": [
  {
   "cell_type": "code",
   "execution_count": 6,
   "id": "240be554-7957-4aef-b01c-eb6ad5146d07",
   "metadata": {
    "tags": []
   },
   "outputs": [],
   "source": [
    "import re\n",
    "\n",
    "def cambiar_nombre_conjunto(archivo, conjunto_palabras, nuevo_nombre):\n",
    "    # Abrir el archivo y leer todas las líneas con la codificación UTF-8\n",
    "    with open(archivo, 'r', encoding='utf-8') as f:\n",
    "        lineas = f.readlines()\n",
    "\n",
    "    # Reemplazar el nombre del conjunto de palabras\n",
    "    nuevas_lineas = []\n",
    "    for linea in lineas:\n",
    "        # Utilizar expresiones regulares para buscar coincidencias exactas de las palabras clave\n",
    "        for palabra in conjunto_palabras:\n",
    "            # Patrón de búsqueda de la palabra clave como palabra independiente\n",
    "            patron = r'\\b' + re.escape(palabra) + r'\\b'\n",
    "            # Reemplazar todas las ocurrencias de la palabra clave por el nuevo nombre\n",
    "            linea = re.sub(patron, nuevo_nombre, linea)\n",
    "        nuevas_lineas.append(linea)\n",
    "\n",
    "    # Escribir las líneas actualizadas en el archivo\n",
    "    with open(archivo, 'w', encoding='utf-8') as f:\n",
    "        f.writelines(nuevas_lineas)\n",
    "\n",
    "# Ejemplo de uso\n",
    "archivo = 'nombre.txt'\n",
    "conjunto_palabras = ['Cambiar por las palabras que quieres cambiar']  # Cambiar por las palabras que quieres cambiar\n",
    "nuevo_nombre = 'Cambiar por el nuevo nombre del conjunto'  # Cambiar por el nuevo nombre del conjunto\n",
    "\n",
    "cambiar_nombre_conjunto(archivo, conjunto_palabras, nuevo_nombre)\n"
   ]
  }
 ],
 "metadata": {
  "kernelspec": {
   "display_name": "Python 3 (ipykernel)",
   "language": "python",
   "name": "python3"
  },
  "language_info": {
   "codemirror_mode": {
    "name": "ipython",
    "version": 3
   },
   "file_extension": ".py",
   "mimetype": "text/x-python",
   "name": "python",
   "nbconvert_exporter": "python",
   "pygments_lexer": "ipython3",
   "version": "3.11.4"
  }
 },
 "nbformat": 4,
 "nbformat_minor": 5
}
